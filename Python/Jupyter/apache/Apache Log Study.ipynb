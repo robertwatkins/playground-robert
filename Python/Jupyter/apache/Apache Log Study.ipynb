{
 "cells": [
  {
   "cell_type": "markdown",
   "metadata": {},
   "source": [
    "## Apache Logs\n",
    "\n",
    "This is a study of analyzing apache logs, looking for normal and abnormal usage.\n",
    "\n",
    "Prerequisites\n",
    " - python 3.x\n",
    " - python packages\n",
    "   - pip3 install pandas\n",
    "   - pip3 install scikit-learn\n",
    "   - pip3 install matplotlib\n",
    "\n",
    "Sample data\n",
    "- http://indeedeng.github.io/imhotep/files/nasa_19950801.tsv (saved in 'rawData/nasa_19950801.tsv')\n",
    "- http://indeedeng.github.io/imhotep/files/nasa_19950630.22-19950728.12.tsv.gz\n",
    "- http://indeedeng.github.io/imhotep/files/nasa_19950731.22-19950831.22.tsv.gz\n",
    "\n",
    "---\n",
    "\n",
    "### Read Data File And View Headings\n",
    "This reads in the datafile and shows the headings of each column.\n"
   ]
  },
  {
   "cell_type": "code",
   "execution_count": 8,
   "metadata": {},
   "outputs": [
    {
     "data": {
      "text/plain": [
       "Index(['host', 'logname', 'time', 'method', 'url', 'response', 'bytes',\n",
       "       'referer', 'useragent'],\n",
       "      dtype='object')"
      ]
     },
     "execution_count": 8,
     "metadata": {},
     "output_type": "execute_result"
    }
   ],
   "source": [
    "import pandas as pd\n",
    "\n",
    "apache_log_path = 'rawData/nasa_19950801.tsv'\n",
    "apache_log_data = pd.read_csv(apache_log_path, sep='\\t', header=0)\n",
    "apache_log_data.columns"
   ]
  },
  {
   "cell_type": "markdown",
   "metadata": {},
   "source": [
    "---\n",
    "## Initial Visualization\n",
    "### Generate a histogram of response codes\n",
    "Show the list of response codes in this data, then see the raw numbers for how frequently each exists in the loaded data and generate a graph of this data"
   ]
  },
  {
   "cell_type": "code",
   "execution_count": 10,
   "metadata": {},
   "outputs": [
    {
     "name": "stdout",
     "output_type": "stream",
     "text": [
      "[200 304 302 404]\n"
     ]
    }
   ],
   "source": [
    "responses = apache_log_data.response\n",
    "unique_responses = responses.unique()\n",
    "print(unique_responses)"
   ]
  },
  {
   "cell_type": "code",
   "execution_count": 12,
   "metadata": {},
   "outputs": [
    {
     "name": "stdout",
     "output_type": "stream",
     "text": [
      "200    27972\n",
      "304     2421\n",
      "302      355\n",
      "404      221\n",
      "Name: response, dtype: int64\n"
     ]
    }
   ],
   "source": [
    "histogram_responses = responses.value_counts()\n",
    "print(histogram_responses)"
   ]
  },
  {
   "cell_type": "code",
   "execution_count": 23,
   "metadata": {},
   "outputs": [
    {
     "data": {
      "image/png": "[encoded data removed]",
      "text/plain": [
       "<Figure size 432x288 with 1 Axes>"
      ]
     },
     "metadata": {
      "needs_background": "light"
     },
     "output_type": "display_data"
    }
   ],
   "source": [
    "import matplotlib.pyplot as plt\n",
    "import numpy as np\n",
    "\n",
    "unique_responses_count = (len(unique_responses))\n",
    "x = np.arange(unique_responses_count)\n",
    "plt.bar(x,histogram_responses)\n",
    "plt.xticks(x, unique_responses)\n",
    "plt.show()"
   ]
  },
  {
   "cell_type": "code",
   "execution_count": null,
   "metadata": {},
   "outputs": [],
   "source": []
  }
 ],
 "metadata": {
  "kernelspec": {
   "display_name": "Python 3",
   "language": "python",
   "name": "python3"
  },
  "language_info": {
   "codemirror_mode": {
    "name": "ipython",
    "version": 3
   },
   "file_extension": ".py",
   "mimetype": "text/x-python",
   "name": "python",
   "nbconvert_exporter": "python",
   "pygments_lexer": "ipython3",
   "version": "3.7.1"
  }
 },
 "nbformat": 4,
 "nbformat_minor": 2
}
