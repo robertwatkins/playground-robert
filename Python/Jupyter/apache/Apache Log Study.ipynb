{
 "cells": [
  {
   "cell_type": "markdown",
   "metadata": {},
   "source": [
    "## Apache Logs\n",
    "\n",
    "This is a study of analyzing apache logs, looking for normal and abnormal usage.\n",
    "\n",
    "Sample data\n",
    "- http://indeedeng.github.io/imhotep/files/nasa_19950801.tsv (saved in 'rawData\\nasa_19950801.tsv')\n",
    "- http://indeedeng.github.io/imhotep/files/nasa_19950630.22-19950728.12.tsv.gz\n",
    "- http://indeedeng.github.io/imhotep/files/nasa_19950731.22-19950831.22.tsv.gz\n"
   ]
  },
  {
   "cell_type": "code",
   "execution_count": null,
   "metadata": {},
   "outputs": [],
   "source": []
  }
 ],
 "metadata": {
  "kernelspec": {
   "display_name": "Python 3",
   "language": "python",
   "name": "python3"
  },
  "language_info": {
   "codemirror_mode": {
    "name": "ipython",
    "version": 3
   },
   "file_extension": ".py",
   "mimetype": "text/x-python",
   "name": "python",
   "nbconvert_exporter": "python",
   "pygments_lexer": "ipython3",
   "version": "3.7.1"
  }
 },
 "nbformat": 4,
 "nbformat_minor": 2
}
