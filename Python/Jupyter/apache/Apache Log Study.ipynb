{
 "cells": [
  {
   "cell_type": "markdown",
   "metadata": {},
   "source": [
    "## Apache Logs\n",
    "\n",
    "This is a study of analyzing apache logs, looking for normal and abnormal usage.\n",
    "\n",
    "Prerequisites\n",
    " - python 3.x\n",
    " - python packages\n",
    "   - pip3 install pandas\n",
    "   - pip3 install scikit-learn\n",
    "   - pip3 install matplotlib\n",
    "\n",
    "Sample data\n",
    "- http://indeedeng.github.io/imhotep/files/nasa_19950801.tsv (saved in 'rawData/nasa_19950801.tsv')\n",
    "- http://indeedeng.github.io/imhotep/files/nasa_19950630.22-19950728.12.tsv.gz\n",
    "- http://indeedeng.github.io/imhotep/files/nasa_19950731.22-19950831.22.tsv.gz\n",
    "\n",
    "---\n",
    "\n",
    "### Read Data File And View Headings and Sample Data\n",
    "This reads in the datafile and shows the headings of each column.\n"
   ]
  },
  {
   "cell_type": "code",
   "execution_count": 66,
   "metadata": {},
   "outputs": [
    {
     "name": "stdout",
     "output_type": "stream",
     "text": [
      "Index(['host', 'logname', 'time', 'method', 'url', 'response', 'bytes',\n",
      "       'referer', 'useragent'],\n",
      "      dtype='object')\n",
      "                        host logname       time method  \\\n",
      "0     pppa006.compuserve.com       -  807256800    GET   \n",
      "1         vcc7.langara.bc.ca       -  807256804    GET   \n",
      "2     pppa006.compuserve.com       -  807256806    GET   \n",
      "3  thing1.cchem.berkeley.edu       -  807256870    GET   \n",
      "4              202.236.34.35       -  807256881    GET   \n",
      "\n",
      "                                                 url  response  bytes  \\\n",
      "0                            /images/launch-logo.gif       200   1713   \n",
      "1                    /shuttle/missions/missions.html       200   8677   \n",
      "2            /history/apollo/images/apollo-logo1.gif       200   1173   \n",
      "3  /shuttle/missions/sts-70/sts-70-day-03-highlig...       200   4705   \n",
      "4                                    /whats-new.html       200  18936   \n",
      "\n",
      "   referer  useragent  \n",
      "0      NaN        NaN  \n",
      "1      NaN        NaN  \n",
      "2      NaN        NaN  \n",
      "3      NaN        NaN  \n",
      "4      NaN        NaN  \n"
     ]
    }
   ],
   "source": [
    "import pandas as pd\n",
    "\n",
    "apache_log_path = 'rawData/nasa_19950801.tsv'\n",
    "apache_log_data = pd.read_csv(apache_log_path, sep='\\t', header=0)\n",
    "print(apache_log_data.columns)\n",
    "print(apache_log_data.head())"
   ]
  },
  {
   "cell_type": "markdown",
   "metadata": {},
   "source": [
    "Looks like the 'referer' and 'useragent' columns have been redacted from our sample data.\n",
    "\n",
    "### Data Dictionary\n",
    " | Column     | Description |\n",
    " |------------|:-----------:|\n",
    " | host       | The hostname or IP address making the request to the website |\n",
    " | logname    | not a populated field |\n",
    " | time       | integer version of unix timestamp |\n",
    " | method     | HTTP method for the call |\n",
    " | url        | path to the file being requested |\n",
    " | response   | HTTP response code for the call |\n",
    " | bytes      | Number of bytes returned for the request |\n",
    " | referer    | not a populated field |\n",
    " | useragent  | not a populated field |\n",
    "\n",
    "---\n",
    "## Initial Visualization\n",
    "### Generate a histogram of response codes\n",
    "Show the list of response codes in this data, then see the raw numbers for how frequently each exists in the loaded data and generate a graph of this data"
   ]
  },
  {
   "cell_type": "code",
   "execution_count": 10,
   "metadata": {},
   "outputs": [
    {
     "name": "stdout",
     "output_type": "stream",
     "text": [
      "[200 304 302 404]\n"
     ]
    }
   ],
   "source": [
    "responses = apache_log_data.response\n",
    "unique_responses = responses.unique()\n",
    "print(unique_responses)"
   ]
  },
  {
   "cell_type": "code",
   "execution_count": 12,
   "metadata": {},
   "outputs": [
    {
     "name": "stdout",
     "output_type": "stream",
     "text": [
      "200    27972\n",
      "304     2421\n",
      "302      355\n",
      "404      221\n",
      "Name: response, dtype: int64\n"
     ]
    }
   ],
   "source": [
    "histogram_responses = responses.value_counts()\n",
    "print(histogram_responses)"
   ]
  },
  {
   "cell_type": "code",
   "execution_count": 62,
   "metadata": {},
   "outputs": [
    {
     "data": {
      "image/png": "[encoded data removed]",
      "text/plain": [
       "<Figure size 432x288 with 1 Axes>"
      ]
     },
     "metadata": {
      "needs_background": "light"
     },
     "output_type": "display_data"
    }
   ],
   "source": [
    "import matplotlib.pyplot as plt\n",
    "import numpy as np\n",
    "\n",
    "unique_responses_count = (len(unique_responses))\n",
    "x = np.arange(unique_responses_count)\n",
    "plt.title('Histogram of Response Codes')\n",
    "plt.bar(x,histogram_responses)\n",
    "plt.xticks(x, unique_responses)\n",
    "plt.show()"
   ]
  },
  {
   "cell_type": "markdown",
   "metadata": {},
   "source": [
    "---\n",
    "### Visualize Response Size (in Bytes)\n",
    "\n",
    "Because we have more data than the response codes, we'll need to decide how to bucket this data. To do that, we'll look at some general stats and then create a histogram graph."
   ]
  },
  {
   "cell_type": "code",
   "execution_count": 43,
   "metadata": {},
   "outputs": [
    {
     "name": "stdout",
     "output_type": "stream",
     "text": [
      "Maximum response size = 1269716\n",
      "Average response size = 15563.96612741774\n",
      "Median response size = 2322.0\n"
     ]
    }
   ],
   "source": [
    "responseinbytes = apache_log_data.bytes\n",
    "print(\"Maximum response size =\", max(responseinbytes))\n",
    "print(\"Average response size =\", responseinbytes.mean())\n",
    "print(\"Median response size =\", responseinbytes.median())"
   ]
  },
  {
   "cell_type": "code",
   "execution_count": 63,
   "metadata": {},
   "outputs": [
    {
     "data": {
      "image/png": "[encoded data removed]",
      "text/plain": [
       "<Figure size 432x288 with 1 Axes>"
      ]
     },
     "metadata": {
      "needs_background": "light"
     },
     "output_type": "display_data"
    }
   ],
   "source": [
    "import matplotlib.mlab as mlab\n",
    "\n",
    "num_bins = 20\n",
    "plt.title('Histogram of Response Size (in Bytes)')\n",
    "n, bins, patches = plt.hist(responseinbytes, num_bins, density=1, alpha=0.5)"
   ]
  },
  {
   "cell_type": "markdown",
   "metadata": {},
   "source": [
    "### That histogram looks very skewed :(\n",
    "We'll need to look at creating a derived field that can show this data better.\n",
    "\n",
    "Since this is skewed-left, we'll use use the 'log-normal' translation which takes the log of the x values to get more of a normal curve. Since we have some responses with 0 bytes returned, we need to add one to each of our 'x' values so that the log function does not generate an error."
   ]
  },
  {
   "cell_type": "code",
   "execution_count": 64,
   "metadata": {},
   "outputs": [
    {
     "data": {
      "image/png": "[encoded data removed]",
      "text/plain": [
       "<Figure size 432x288 with 1 Axes>"
      ]
     },
     "metadata": {
      "needs_background": "light"
     },
     "output_type": "display_data"
    }
   ],
   "source": [
    "import math\n",
    "\n",
    "responseinbytes_logx = apache_log_data.loc[:,'bytes']\n",
    "responseinbytes_logx = responseinbytes_logx.apply(lambda x: math.log(x + 1))\n",
    "num_bins = 20\n",
    "plt.title('Histogram of Log-normal Response Size')\n",
    "n, bins, patches = plt.hist(responseinbytes_logx, num_bins, density=1, alpha=0.5)\n",
    "\n"
   ]
  },
  {
   "cell_type": "code",
   "execution_count": null,
   "metadata": {},
   "outputs": [],
   "source": []
  }
 ],
 "metadata": {
  "kernelspec": {
   "display_name": "Python 3",
   "language": "python",
   "name": "python3"
  },
  "language_info": {
   "codemirror_mode": {
    "name": "ipython",
    "version": 3
   },
   "file_extension": ".py",
   "mimetype": "text/x-python",
   "name": "python",
   "nbconvert_exporter": "python",
   "pygments_lexer": "ipython3",
   "version": "3.7.1"
  }
 },
 "nbformat": 4,
 "nbformat_minor": 2
}
