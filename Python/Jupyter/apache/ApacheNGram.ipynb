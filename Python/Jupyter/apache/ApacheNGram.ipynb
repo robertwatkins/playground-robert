{
 "cells": [
  {
   "cell_type": "markdown",
   "metadata": {},
   "source": [
    "# Apache log n-gram analysis\n",
    "\n",
    "### Data Dictionary\n",
    "Using additional analysis not shown earlier, I was able to come up with this data dictionary to describe the contents of the data file.\n",
    "\n",
    " | Column     | Description |\n",
    " |------------|:-----------:|\n",
    " | host       | The hostname or IP address making the request to the website |\n",
    " | logname    | not a populated field |\n",
    " | time       | integer version of unix timestamp |\n",
    " | method     | HTTP method for the call |\n",
    " | url        | path to the file being requested |\n",
    " | response   | HTTP response code for the call |\n",
    " | bytes      | Number of bytes returned for the request |\n",
    " | referer    | not a populated field |\n",
    " | useragent  | not a populated field |\n",
    "\n",
    "---"
   ]
  },
  {
   "cell_type": "code",
   "execution_count": 3,
   "metadata": {},
   "outputs": [],
   "source": [
    "import pandas as pd\n",
    "import matplotlib.pyplot as plt\n",
    "import numpy as np\n",
    "import matplotlib.mlab as mlab\n",
    "import math\n",
    "import hashlib "
   ]
  },
  {
   "cell_type": "code",
   "execution_count": 5,
   "metadata": {},
   "outputs": [],
   "source": [
    "apache_log_path = 'rawData/nasa_19950801.tsv'\n",
    "apache_log_data = pd.read_csv(apache_log_path, sep='\\t', header=0)"
   ]
  },
  {
   "cell_type": "code",
   "execution_count": 6,
   "metadata": {},
   "outputs": [
    {
     "name": "stdout",
     "output_type": "stream",
     "text": [
      "bi-grams\n"
     ]
    },
    {
     "data": {
      "text/plain": [
       "[['/images/WORLD-logosmall.gif', '/ksc.html'],\n",
       " ['/images/USA-logosmall.gif', '/images/WORLD-logosmall.gif'],\n",
       " ['/images/WORLD-logosmall.gif', '/htbin/wais.pl'],\n",
       " ['/images/NASA-logosmall.gif', '/images/ksclogo-medium.gif'],\n",
       " ['/images/WORLD-logosmall.gif', '/images/NASA-logosmall.gif'],\n",
       " ['/ksc.html', '/images/ksclogo-medium.gif'],\n",
       " ['/ksc.html', '/ksc.html'],\n",
       " ['/images/ksclogo-medium.gif', '/ksc.html'],\n",
       " ['/htbin/wais.pl', '/ksc.html'],\n",
       " ['/images/ksclogo-medium.gif', '/images/NASA-logosmall.gif'],\n",
       " ['/ksc.html', '/images/NASA-logosmall.gif'],\n",
       " ['/images/ksclogo-medium.gif', '/images/MOSAIC-logosmall.gif'],\n",
       " ['/\\\\\\\\yahoo.com', '/ksc.html'],\n",
       " ['/images/NASA-logosmall.gif', '/images/MOSAIC-logosmall.gif'],\n",
       " ['/images/MOSAIC-logosmall.gif', '/images/USA-logosmall.gif'],\n",
       " ['/images/WORLD-logosmall.gif', '/\\\\\\\\yahoo.com']]"
      ]
     },
     "execution_count": 6,
     "metadata": {},
     "output_type": "execute_result"
    }
   ],
   "source": [
    "visitor_address = apache_log_data.host\n",
    "histogram_visitor_address = visitor_address.value_counts()\n",
    "single_user_logs = apache_log_data.loc[apache_log_data['host'] == 'edams.ksc.nasa.gov']\n",
    "single_user_path = single_user_logs['url']\n",
    "#should unwind this a bit to make the purpose more clear\n",
    "#also, there should be padding added to the front/back to indicate beginning and ending of a path\n",
    "def find_ngrams(input_list, n):\n",
    "  return [list(x) for x in set(tuple(x) for x in list(zip(*[input_list[i:] for i in range(n)])))]\n",
    "\n",
    "print(\"bi-grams\")\n",
    "list(find_ngrams(single_user_path,2))"
   ]
  },
  {
   "cell_type": "code",
   "execution_count": null,
   "metadata": {},
   "outputs": [],
   "source": []
  }
 ],
 "metadata": {
  "kernelspec": {
   "display_name": "Python 3",
   "language": "python",
   "name": "python3"
  },
  "language_info": {
   "codemirror_mode": {
    "name": "ipython",
    "version": 3
   },
   "file_extension": ".py",
   "mimetype": "text/x-python",
   "name": "python",
   "nbconvert_exporter": "python",
   "pygments_lexer": "ipython3",
   "version": "3.7.1"
  }
 },
 "nbformat": 4,
 "nbformat_minor": 2
}
